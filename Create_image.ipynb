{
 "cells": [
  {
   "cell_type": "code",
   "execution_count": 1,
   "metadata": {},
   "outputs": [],
   "source": [
    "import numpy\n",
    "import cv2\n",
    "import matplotlib.pyplot as plt\n",
    "import numpy as np"
   ]
  },
  {
   "cell_type": "code",
   "execution_count": 2,
   "metadata": {},
   "outputs": [],
   "source": [
    "img1 = numpy.ones((800,800,3))\n",
    "img2 = numpy.ones((800,800,3))"
   ]
  },
  {
   "cell_type": "markdown",
   "metadata": {},
   "source": [
    "img1[100:125,100:225]=[0,255,0]\n",
    "img1[125:225,150:175]=[0,132,0]\n",
    "img1[150:175,200:325]=[0,132,0]\n",
    "img1[100:200,350:375]=[128,0,255]\n",
    "img1[175:200,350:475]=[0,255,0]\n",
    "#img1[128:256,384:640]=[0,255,0]\n",
    "#img1[128:256,384:640]=[0,255,0]"
   ]
  },
  {
   "cell_type": "code",
   "execution_count": 3,
   "metadata": {},
   "outputs": [],
   "source": [
    "#backgroung\n",
    "img1[0:,0:]=[0,128,255]\n",
    "#T-4.1\n",
    "img1[100:125,100:225]=[150,0,90]\n",
    "img1[125:250,150:175]=[150,0,90]\n",
    "img1[150:175,200:325]=[150,0,90]\n",
    "img1[100:200,350:375]=[150,0,90]\n",
    "img1[175:200,350:475]=[150,0,90]\n",
    "img1[100:250,450:475]=[150,0,90]\n",
    "img1[225:250,500:525]=[150,0,90]\n",
    "img1[100:125,550:600]=[150,0,90]\n",
    "img1[100:250,575:600]=[150,0,90]\n",
    "img1[225:250,550:625]=[150,0,90]\n",
    "#face\n",
    "img1[300:500,255:445]=[255,128,0]\n",
    "#head_hear\n",
    "img1[300:350,240:460]=[0,0,0]\n",
    "#eye cover\n",
    "img1[375:398,280:330]=[0,0,0]\n",
    "img1[398:400,285:325]=[0,0,0]\n",
    "img1[400:402,290:320]=[0,0,0]\n",
    "img1[402:404,295:315]=[0,0,0]\n",
    "img1[404:406,300:310]=[0,0,0]\n",
    "#nose\n",
    "img1[410:442,342:357]=[150,0,90]\n",
    "img1[412:440,344:355]=[255,128,0]\n",
    "#muchi\n",
    "img1[442:448,317:383]=[0,0,0]\n",
    "#ears\n",
    "img1[375:405,235:255]=[255,128,0]\n",
    "img1[375:405,445:465]=[255,128,0]\n",
    "#thread\n",
    "img1[372:375,255:445]=[0,0,0]\n",
    "#2nd eye\n",
    "img1[380:395,395:415]=[0,0,0]\n",
    "img1[389:392,407:410]=[1,1,1]\n",
    "#mouth\n",
    "img1[450:470,325:375]=[1,1,1]\n",
    "#beard\n",
    "img1[480:500,335:365]=[0,0,0]\n",
    "#body\n",
    "img1[500:800,150:550]=[0,0,255]"
   ]
  },
  {
   "cell_type": "code",
   "execution_count": 4,
   "metadata": {},
   "outputs": [],
   "source": [
    "cv2.imshow('Task4.1',img1)\n",
    "cv2.waitKey()\n",
    "cv2.destroyAllWindows()"
   ]
  }
 ],
 "metadata": {
  "kernelspec": {
   "display_name": "Python 3",
   "language": "python",
   "name": "python3"
  },
  "language_info": {
   "codemirror_mode": {
    "name": "ipython",
    "version": 3
   },
   "file_extension": ".py",
   "mimetype": "text/x-python",
   "name": "python",
   "nbconvert_exporter": "python",
   "pygments_lexer": "ipython3",
   "version": "3.8.3"
  }
 },
 "nbformat": 4,
 "nbformat_minor": 4
}
